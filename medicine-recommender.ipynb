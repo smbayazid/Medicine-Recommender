{
 "cells": [
  {
   "cell_type": "code",
   "execution_count": 1,
   "id": "9a3244b4",
   "metadata": {},
   "outputs": [],
   "source": [
    "import pandas as pd #for Pandas functions\n",
    "from sklearn.tree import DecisionTreeClassifier #for the Decision Tree Classification Model\n",
    "\n",
    "from sklearn.preprocessing import LabelEncoder #for encoding the cetagorical data\n",
    "\n",
    "from sklearn.preprocessing import OneHotEncoder #for transforming cetagorical data\n",
    "from sklearn.compose import ColumnTransformer #for making new columns for cetagorical data\n",
    "\n",
    "from sklearn.model_selection import train_test_split #for spliting dataset into train and test set\n",
    "\n",
    "from sklearn.metrics import accuracy_score #for accuracy measure"
   ]
  },
  {
   "cell_type": "code",
   "execution_count": 2,
   "id": "b7761883",
   "metadata": {},
   "outputs": [],
   "source": [
    "dataset = pd.read_csv(\"drug200.csv\")\n",
    "df = dataset"
   ]
  },
  {
   "cell_type": "code",
   "execution_count": 3,
   "id": "3eb22cd5",
   "metadata": {},
   "outputs": [],
   "source": [
    "X = df.iloc[:, :-1].values\n",
    "y = df.iloc[:, -1].values "
   ]
  },
  {
   "cell_type": "code",
   "execution_count": 4,
   "id": "392fb7ab",
   "metadata": {},
   "outputs": [],
   "source": [
    "labelencoder_X = LabelEncoder()\n",
    "\n",
    "X[:,1] = labelencoder_X.fit_transform(X[:,1])\n",
    "X[:,3] = labelencoder_X.fit_transform(X[:,3])"
   ]
  },
  {
   "cell_type": "code",
   "execution_count": 5,
   "id": "0190e8e5",
   "metadata": {},
   "outputs": [],
   "source": [
    "ct_X = ColumnTransformer(transformers = [('encoder', OneHotEncoder(), [2])], remainder = 'passthrough')\n",
    "X = ct_X.fit_transform(X)"
   ]
  },
  {
   "cell_type": "code",
   "execution_count": 6,
   "id": "bbb94891",
   "metadata": {},
   "outputs": [],
   "source": [
    "X_train, X_test, y_train, y_test = train_test_split(X, y, test_size = 0.20)"
   ]
  },
  {
   "cell_type": "code",
   "execution_count": 7,
   "id": "e33cdda6",
   "metadata": {},
   "outputs": [],
   "source": [
    "model = DecisionTreeClassifier() \n",
    "model.fit(X_train, y_train) \n",
    "prediction = model.predict(X_test)"
   ]
  },
  {
   "cell_type": "code",
   "execution_count": 8,
   "id": "93f88d0c",
   "metadata": {},
   "outputs": [
    {
     "data": {
      "text/plain": [
       "1.0"
      ]
     },
     "execution_count": 8,
     "metadata": {},
     "output_type": "execute_result"
    }
   ],
   "source": [
    "accuracy = accuracy_score(y_test, prediction) \n",
    "accuracy"
   ]
  },
  {
   "cell_type": "code",
   "execution_count": 9,
   "id": "99fdd26d",
   "metadata": {},
   "outputs": [
    {
     "data": {
      "text/plain": [
       "array([[ 1,  0,  0,  0,  0],\n",
       "       [ 0,  4,  0,  0,  0],\n",
       "       [ 0,  0,  2,  0,  0],\n",
       "       [ 0,  0,  0, 10,  0],\n",
       "       [ 0,  0,  0,  0, 23]], dtype=int64)"
      ]
     },
     "execution_count": 9,
     "metadata": {},
     "output_type": "execute_result"
    }
   ],
   "source": [
    "from sklearn.metrics import confusion_matrix\n",
    "confusion_matrix(y_test, prediction)"
   ]
  },
  {
   "cell_type": "code",
   "execution_count": 10,
   "id": "6483e505",
   "metadata": {},
   "outputs": [],
   "source": [
    "from sklearn import tree\n",
    "\n",
    "tree.export_graphviz(model, out_file = 'medicine-recommender.dot',\n",
    "                    feature_names = ['BP_High', 'BP_Low', 'BP_Normal', 'age', 'Gender', 'Cholesterol', 'Na_to_K'],\n",
    "                    class_names = sorted(list(set(y))),\n",
    "                    label = 'all',\n",
    "                    rounded = True,\n",
    "                    filled = True)"
   ]
  }
 ],
 "metadata": {
  "kernelspec": {
   "display_name": "Python 3 (ipykernel)",
   "language": "python",
   "name": "python3"
  },
  "language_info": {
   "codemirror_mode": {
    "name": "ipython",
    "version": 3
   },
   "file_extension": ".py",
   "mimetype": "text/x-python",
   "name": "python",
   "nbconvert_exporter": "python",
   "pygments_lexer": "ipython3",
   "version": "3.9.7"
  }
 },
 "nbformat": 4,
 "nbformat_minor": 5
}
